{
  "nbformat": 4,
  "nbformat_minor": 0,
  "metadata": {
    "colab": {
      "provenance": []
    },
    "kernelspec": {
      "name": "python3",
      "display_name": "Python 3"
    },
    "language_info": {
      "name": "python"
    }
  },
  "cells": [
    {
      "cell_type": "code",
      "execution_count": null,
      "metadata": {
        "id": "6U2WUJfVopVl"
      },
      "outputs": [],
      "source": [
        "# Step 4: Recommend Movies\n",
        "def recommend_movies(liked_movies, cosine_sim, movie_indices, movies_df):\n",
        "    recommended_movies = pd.DataFrame()\n",
        "\n",
        "    for movie in liked_movies:\n",
        "        # Check if the movie exists in the dataset\n",
        "        if movie in movie_indices:\n",
        "            # Get the index of the movie that matches the title\n",
        "            idx = movie_indices[movie]\n",
        "\n",
        "            # Get the pairwise similarity scores of all movies with that movie\n",
        "            sim_scores = list(enumerate(cosine_sim[idx]))\n",
        "\n",
        "            # Sort the movies based on the similarity scores\n",
        "            sim_scores = sorted(sim_scores, key=lambda x: x[1], reverse=True)\n",
        "\n",
        "            # Get the indices of the most similar movies\n",
        "            sim_scores = sim_scores[1:11]  # Exclude the first one as it is the same movie\n",
        "\n",
        "            # Get the movie titles\n",
        "            movie_indices_list = [i[0] for i in sim_scores]\n",
        "            recommended_movies = pd.concat([recommended_movies, movies_df.iloc[movie_indices_list]])\n",
        "        else:\n",
        "            print(f\"'{movie}' not found in the dataset.\")\n",
        "\n",
        "    return recommended_movies.drop_duplicates().head(10)"
      ]
    }
  ]
}