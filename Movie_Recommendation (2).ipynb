{
  "nbformat": 4,
  "nbformat_minor": 0,
  "metadata": {
    "colab": {
      "provenance": []
    },
    "kernelspec": {
      "name": "python3",
      "display_name": "Python 3"
    },
    "language_info": {
      "name": "python"
    }
  },
  "cells": [
    {
      "cell_type": "code",
      "execution_count": null,
      "metadata": {
        "id": "6U2WUJfVopVl"
      },
      "outputs": [],
      "source": [
        "# Step 5: Manual Input and Example Usage\n",
        "user_likes = input(\"Enter the movie titles you like, separated by commas: \").split(',')\n",
        "\n",
        "# Strip any leading/trailing whitespace from movie titles\n",
        "user_likes = [movie.strip() for movie in user_likes]\n",
        "\n",
        "recommendations = recommend_movies(user_likes, cosine_sim, movie_indices, movies_df)\n",
        "\n",
        "# Display the recommendations\n",
        "if not recommendations.empty:\n",
        "    print(\"\\nRecommended movies:\")\n",
        "    print(recommendations[['title', 'genres']])\n",
        "else:\n",
        "    print(\"No recommendations could be made based on the input.\")"
      ]
    }
  ]
}