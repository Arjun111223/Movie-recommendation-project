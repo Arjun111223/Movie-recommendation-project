{
  "nbformat": 4,
  "nbformat_minor": 0,
  "metadata": {
    "colab": {
      "provenance": []
    },
    "kernelspec": {
      "name": "python3",
      "display_name": "Python 3"
    },
    "language_info": {
      "name": "python"
    }
  },
  "cells": [
    {
      "cell_type": "code",
      "execution_count": null,
      "metadata": {
        "id": "6U2WUJfVopVl"
      },
      "outputs": [],
      "source": [
        "import pandas as pd\n",
        "from sklearn.feature_extraction.text import CountVectorizer\n",
        "from sklearn.metrics.pairwise import cosine_similarity\n",
        "\n",
        "# Step 1: Load the datasets\n",
        "movies_df = pd.read_csv('movie.csv')\n",
        "ratings_df = pd.read_csv('rating.csv')\n",
        "\n",
        "# Step 2: Extract Movie Features (e.g., genres)\n",
        "movies_df['genres'] = movies_df['genres'].str.split('|')\n",
        "movies_df['genres'] = movies_df['genres'].apply(lambda x: ' '.join(x))\n",
        "\n",
        "# Use CountVectorizer to convert the genres into a matrix of token counts\n",
        "count_vectorizer = CountVectorizer(tokenizer=lambda x: x.split())\n",
        "genre_matrix = count_vectorizer.fit_transform(movies_df['genres'])\n",
        "\n",
        "# Step 3: Compute Similarity between Movies\n",
        "cosine_sim = cosine_similarity(genre_matrix, genre_matrix)\n",
        "\n",
        "# Create a Series to map movie titles to indices\n",
        "movie_indices = pd.Series(movies_df.index, index=movies_df['title']).drop_duplicates()"
      ]
    }
  ]
}